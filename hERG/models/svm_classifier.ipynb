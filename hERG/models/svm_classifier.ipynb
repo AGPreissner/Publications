{
 "cells": [
  {
   "cell_type": "markdown",
   "metadata": {
    "collapsed": true
   },
   "source": [
    "### Imports"
   ]
  },
  {
   "cell_type": "code",
   "execution_count": 5,
   "metadata": {
    "collapsed": true
   },
   "outputs": [],
   "source": [
    "import pandas as pd\n",
    "import numpy as np\n",
    "import warnings; warnings.simplefilter('ignore')\n",
    "\n",
    "from rdkit import Chem, DataStructs\n",
    "from rdkit.Chem.Draw import IPythonConsole\n",
    "from rdkit.Chem import PandasTools\n",
    "from rdkit.Chem import AllChem\n",
    "\n",
    "from sklearn.ensemble import RandomForestClassifier\n",
    "from sklearn.cross_validation import StratifiedKFold\n",
    "from sklearn import svm\n",
    "from sklearn.metrics import recall_score, roc_auc_score"
   ]
  },
  {
   "cell_type": "markdown",
   "metadata": {},
   "source": [
    "### Helper functions"
   ]
  },
  {
   "cell_type": "code",
   "execution_count": 6,
   "metadata": {
    "collapsed": true
   },
   "outputs": [],
   "source": [
    "class FP:\n",
    "    \"\"\"\n",
    "    A fingerprint class that inserts molecular fingerprints into pandas data frame\n",
    "    \"\"\"\n",
    "    def __init__(self, fp):\n",
    "        self.fp = fp\n",
    "    def __str__(self):\n",
    "        return \"%d bit FP\" % len(self.fp)\n",
    "    def __len__(self):\n",
    "        return len(self.fp)\n",
    "\n",
    "def get_morgan_fp(mol):\n",
    "    \"\"\"\n",
    "    Returns the RDKit Morgan fingerprint for a molecule\n",
    "    \"\"\"\n",
    "    info = {}\n",
    "    arr = np.zeros((1,))\n",
    "    fp = AllChem.GetMorganFingerprintAsBitVect(mol, 2, nBits=1024, useFeatures=False, bitInfo=info)\n",
    "    DataStructs.ConvertToNumpyArray(fp, arr)\n",
    "    arr = np.array([len(info[x]) if x in info else 0 for x in range(1024)])\n",
    "\n",
    "    return FP(arr)"
   ]
  },
  {
   "cell_type": "markdown",
   "metadata": {},
   "source": [
    "### Data preparation"
   ]
  },
  {
   "cell_type": "code",
   "execution_count": 20,
   "metadata": {
    "collapsed": true
   },
   "outputs": [],
   "source": [
    "# The data file should contain three columns \n",
    "# 1. molecule ID;\n",
    "# 2. canonical SMILES; and \n",
    "# 3. activity (which is either 1 or 0)\n",
    "\n",
    "# reading the data file into a pandas data frame\n",
    "df = pd.read_csv(\"publications/external/E3_training.csv\", index_col=0)\n",
    "\n",
    "# Build ROMol objects \n",
    "PandasTools.AddMoleculeColumnToFrame(df, smilesCol='can_smiles')\n",
    "\n",
    "# Remove molecules that could not be parsed from SMILES\n",
    "df = df[~df.ROMol.isnull()]\n",
    "\n",
    "# Calculate fingerprints and store them in df\n",
    "# Note: if additional fingerprints are needed that are not available in RDkit, they must be imported with the data\n",
    "df['fp'] = df.apply(lambda x: get_morgan_fp(x['ROMol']), axis=1)\n",
    "#df.shape"
   ]
  },
  {
   "cell_type": "markdown",
   "metadata": {},
   "source": [
    "### Defining X and Y"
   ]
  },
  {
   "cell_type": "code",
   "execution_count": 21,
   "metadata": {
    "collapsed": true
   },
   "outputs": [],
   "source": [
    "# create X variable (=features i.e. molecular fingerprints)\n",
    "X = np.array([x.fp for x in df.fp])\n",
    "#X.shape\n",
    "\n",
    "# create Y variable (=activity values i.e. blocker;1 or non-blocker;0)\n",
    "y = np.array(df.ac)\n",
    "#y.shape"
   ]
  },
  {
   "cell_type": "markdown",
   "metadata": {},
   "source": [
    "### Cross Validation"
   ]
  },
  {
   "cell_type": "code",
   "execution_count": 22,
   "metadata": {},
   "outputs": [
    {
     "name": "stdout",
     "output_type": "stream",
     "text": [
      "AUC:\t\t\t0.84 +/- 0.12\n",
      "Sensitivity:\t\t0.47 +/- 0.20\n",
      "Specificity:\t\t0.92 +/- 0.03\n"
     ]
    }
   ],
   "source": [
    "# Initialize performance measures\n",
    "sens     = np.array([])\n",
    "spec     = np.array([])\n",
    "auc      = np.array([])\n",
    "\n",
    "# 10-fold cross-validation split\n",
    "kfolds = StratifiedKFold(y, n_folds=10, shuffle=True, random_state=0)\n",
    "\n",
    "for train, test in kfolds:\n",
    "    # Split data to training and test set\n",
    "    X_train, X_test, y_train, y_test = X[train], X[test], y[train], y[test]    \n",
    "\n",
    "    # if undersampling is required - random undersampling of the majority class can be done as follows\n",
    "    \n",
    "    # undersampling training set\n",
    "    #uSampler = RandomUnderSampler(ratio=1., replacement=False)\n",
    "    #X_train, y_train = uSampler.fit_sample(X_train, y_train)\n",
    "    \n",
    "    # undersampling test set\n",
    "    #uSampler = RandomUnderSampler(ratio=1., replacement=False)\n",
    "    #X_test, y_test = uSampler.fit_sample(X_test, y_test)\n",
    "    \n",
    "    # Training an SVM classifier\n",
    "    svm_clf = svm.SVC(C=1.0, coef0=0.0, degree=3, gamma='auto', kernel='linear', probability=True, shrinking=True)\n",
    "    svm_clf.fit(X_train, y_train)\n",
    "    \n",
    "    # Predicting the test set\n",
    "    y_pred       = svm_clf.predict(X_test)\n",
    "    y_pred_proba = svm_clf.predict_proba(X_test).T[1]\n",
    "    \n",
    "    # Append performance measures\n",
    "    auc  = np.append(auc, roc_auc_score(y_test, y_pred_proba))\n",
    "    sens = np.append(sens, recall_score(y_test, y_pred, pos_label=1))\n",
    "    spec = np.append(spec, recall_score(y_test, y_pred, pos_label=0))\n",
    "    \n",
    "    \n",
    "# 10-fold cross-validation performance\n",
    "print('AUC:\\t\\t\\t%.2f +/- %.2f' % (auc.mean(), auc.std()))\n",
    "print('Sensitivity:\\t\\t%.2f +/- %.2f' % (sens.mean(), sens.std()))\n",
    "print('Specificity:\\t\\t%.2f +/- %.2f' % (spec.mean(), spec.std()))"
   ]
  },
  {
   "cell_type": "code",
   "execution_count": null,
   "metadata": {
    "collapsed": true
   },
   "outputs": [],
   "source": []
  }
 ],
 "metadata": {
  "kernelspec": {
   "display_name": "Python 3",
   "language": "python",
   "name": "python3"
  },
  "language_info": {
   "codemirror_mode": {
    "name": "ipython",
    "version": 3
   },
   "file_extension": ".py",
   "mimetype": "text/x-python",
   "name": "python",
   "nbconvert_exporter": "python",
   "pygments_lexer": "ipython3",
   "version": "3.6.2"
  }
 },
 "nbformat": 4,
 "nbformat_minor": 2
}
